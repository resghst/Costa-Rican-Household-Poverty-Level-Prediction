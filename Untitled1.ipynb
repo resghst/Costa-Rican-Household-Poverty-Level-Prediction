{
 "cells": [
  {
   "cell_type": "code",
   "execution_count": 1,
   "metadata": {},
   "outputs": [
    {
     "data": {
      "text/plain": [
       "Index(['Id', 'v2a1', 'hacdor', 'rooms', 'hacapo', 'v14a', 'refrig', 'v18q',\n",
       "       'v18q1', 'r4h1',\n",
       "       ...\n",
       "       'SQBescolari', 'SQBage', 'SQBhogar_total', 'SQBedjefe', 'SQBhogar_nin',\n",
       "       'SQBovercrowding', 'SQBdependency', 'SQBmeaned', 'agesq', 'Target'],\n",
       "      dtype='object', length=143)"
      ]
     },
     "execution_count": 1,
     "metadata": {},
     "output_type": "execute_result"
    }
   ],
   "source": [
    "import pandas as pd\n",
    "import numpy as np\n",
    "import seaborn as sns\n",
    "import matplotlib.pyplot as plt \n",
    "%matplotlib inline\n",
    "\n",
    "import os\n",
    "# print(os.listdir('./data'))\n",
    "\n",
    "tf_train = pd.read_csv('./data/train.csv')\n",
    "tf_test = pd.read_csv('./data/test.csv')\n",
    "tf_train.head()\n",
    "tf_train.columns"
   ]
  },
  {
   "cell_type": "code",
   "execution_count": 2,
   "metadata": {},
   "outputs": [],
   "source": [
    "bashline = 10*'-'\n",
    "def eda(data):\n",
    "    bashline = 10*'-'\n",
    "    # print(bashline,\"Top-5- Record\",bashline)\n",
    "    # print(data.head(5))\n",
    "    print(bashline,\"Information\",bashline)\n",
    "    print(data.info())\n",
    "    print(bashline,\"Data Types\",bashline)\n",
    "    print(data.dtypes)\n",
    "    print(bashline,\"Missing value\",bashline)\n",
    "    print(data.isnull().sum())\n",
    "    print(bashline,\"Null value\",bashline)\n",
    "    print(data.isna().sum())\n",
    "    print(bashline,\"Shape of Data\",bashline)\n",
    "    print(data.shape)\n"
   ]
  },
  {
   "cell_type": "code",
   "execution_count": 3,
   "metadata": {},
   "outputs": [],
   "source": [
    "tf_train['v2a1'] = tf_train['v2a1'].interpolate().fillna(1)\n",
    "tf_train['v2a1'] = tf_train['v2a1'].replace(0, 1)\n",
    "tf_train = tf_train[tf_train['v2a1']<=900000]\n",
    "\n",
    "tf_train['v2a1'] = np.log(tf_train['v2a1'])\n",
    "tf_train['v18q1'] = tf_train['v18q1'].interpolate().fillna(0)\n",
    "tf_train['v18q1'] = tf_train['v18q1'].replace(0, 1)\n"
   ]
  },
  {
   "cell_type": "code",
   "execution_count": 4,
   "metadata": {
    "scrolled": true
   },
   "outputs": [],
   "source": [
    "tf_train = tf_train.drop(['rez_esc'],axis=1)\n",
    "tf_train = tf_train.drop(['idhogar'],axis=1)\n",
    "tf_train = tf_train.dropna()\n",
    "for i in tf_train.columns:\n",
    "    if(tf_train[i].isnull().sum()!=0): print(i,'\\t',tf_train[i].isnull().sum())"
   ]
  },
  {
   "cell_type": "code",
   "execution_count": 5,
   "metadata": {},
   "outputs": [],
   "source": [
    "tf_test['v2a1'] = tf_test['v2a1'].interpolate().fillna(1)\n",
    "tf_test['v2a1'] = tf_test['v2a1'].replace(0, 1)\n",
    "tf_test['v2a1'] = np.log(tf_test['v2a1'])\n",
    "tf_test['v18q1'] = tf_test['v18q1'].interpolate().fillna(0)\n",
    "tf_test['v18q1'] = tf_test['v18q1'].replace(0, 1)\n",
    "tf_test = tf_test.drop(['rez_esc'],axis=1)\n",
    "tf_test = tf_test.drop(['idhogar'],axis=1)\n",
    "tf_test = tf_test.fillna(0)\n",
    "for i in tf_test.columns:\n",
    "    if(tf_test[i].isnull().sum()!=0): print(i,'\\t',tf_test[i].isnull().sum())"
   ]
  },
  {
   "cell_type": "code",
   "execution_count": 6,
   "metadata": {},
   "outputs": [],
   "source": [
    "data = tf_train.select_dtypes(include=[np.number]).interpolate().fillna(0)\n",
    "testdata = tf_test.select_dtypes(include=[np.number]).interpolate().fillna(0)\n",
    "y = tf_train.Target\n",
    "X = data.drop(['Target'], axis=1)\n",
    "\n",
    "from sklearn.model_selection import train_test_split\n",
    "X_train, X_test, y_train, y_test = train_test_split(X, y, random_state=88, test_size=.2)"
   ]
  },
  {
   "cell_type": "code",
   "execution_count": 7,
   "metadata": {},
   "outputs": [
    {
     "name": "stdout",
     "output_type": "stream",
     "text": [
      "1\n",
      "2\n",
      "3\n",
      "4\n",
      "5\n",
      "6\n",
      "7\n",
      "8\n",
      "9\n",
      "10\n"
     ]
    }
   ],
   "source": [
    "# # KMeans Classifier  \n",
    "# def KMeans_classifier(X_train, y_train):  \n",
    "#     from sklearn.cluster import KMeans\n",
    "#     return KMeans().fit(X_train,y_train)  \n",
    "print('1')\n",
    "# Multinomial Naive Bayes Classifier  \n",
    "def naive_bayes_classifier(X_train, y_train):  \n",
    "    from sklearn.naive_bayes import MultinomialNB\n",
    "    model = MultinomialNB(alpha=0.01)\n",
    "    model = model.fit(X_train, y_train)\n",
    "    return model \n",
    "print('2')\n",
    "# KNN Classifier  \n",
    "def knn_classifier(X_train, y_train):  \n",
    "    from sklearn.neighbors import KNeighborsClassifier\n",
    "    model = KNeighborsClassifier()\n",
    "    model = model.fit(X_train, y_train)\n",
    "    return model\n",
    "print('3')\n",
    "# Logistic Regression Classifier  \n",
    "def logistic_regression_classifier(X_train, y_train):  \n",
    "    from sklearn.linear_model import LogisticRegression\n",
    "    model = LogisticRegression(penalty='l2')\n",
    "    model = model.fit(X_train, y_train)\n",
    "    return model \n",
    "print('4')\n",
    "# Random Forest Classifier  \n",
    "def random_forest_classifier(X_train, y_train):  \n",
    "    from sklearn.ensemble import RandomForestClassifier \n",
    "    model = RandomForestClassifier(n_estimators=8)\n",
    "    model = model.fit(X_train, y_train)\n",
    "    return model\n",
    "print('5')\n",
    "# Decision Tree Classifier  \n",
    "def decision_tree_classifier(X_train, y_train):  \n",
    "    from sklearn import tree  \n",
    "    model = tree.DecisionTreeClassifier()\n",
    "    model = model.fit(X_train, y_train)\n",
    "    return model\n",
    "print('6')\n",
    "# GBDT(Gradient Boosting Decision Tree) Classifier  \n",
    "def gradient_boosting_classifier(X_train, y_train):  \n",
    "    from sklearn.ensemble import GradientBoostingClassifier  \n",
    "    model = GradientBoostingClassifier(n_estimators=200)\n",
    "    model = model.fit(X_train, y_train)\n",
    "    return model\n",
    "print('7')\n",
    "# SVM Classifier  \n",
    "def svm_classifier(X_train, y_train):  \n",
    "    from sklearn.svm import SVC\n",
    "    model = SVC(kernel='rbf', probability=True)\n",
    "    model = model.fit(X_train, y_train)\n",
    "    return model\n",
    "print('8')\n",
    "#score test\n",
    "def score_test(y_test, predictions):\n",
    "    from sklearn.metrics import accuracy_score\n",
    "    from sklearn.metrics import mean_squared_error\n",
    "    from sklearn.metrics import f1_score\n",
    "    print ('accuracy_score is: \\t {0:.4f}'.format(accuracy_score(y_test, predictions) ))\n",
    "    print ('RMSE is: \\t\\t {0:.4f}'.format(mean_squared_error(y_test, predictions) ))\n",
    "    print ('f1_score is: \\t\\t {0:.4f}'.format(f1_score(y_test, predictions, average='macro') ))\n",
    "print('9')\n",
    "train_model = {\n",
    "    'NB': naive_bayes_classifier,\n",
    "    'KNN': knn_classifier,\n",
    "    'LR': logistic_regression_classifier,\n",
    "    'RF': random_forest_classifier,\n",
    "    'DT': decision_tree_classifier,\n",
    "    'GBDT': gradient_boosting_classifier,\n",
    "    'SVM': svm_classifier\n",
    "}\n",
    "print('10')"
   ]
  },
  {
   "cell_type": "code",
   "execution_count": 8,
   "metadata": {},
   "outputs": [
    {
     "name": "stdout",
     "output_type": "stream",
     "text": [
      "\n",
      "\t NB \t\t score\n",
      "accuracy_score is: \t 0.4924\n",
      "RMSE is: \t\t 1.6155\n",
      "f1_score is: \t\t 0.3399\n",
      "0.0249\n",
      "\n",
      "\t KNN \t\t score\n",
      "accuracy_score is: \t 0.5809\n",
      "RMSE is: \t\t 1.3630\n",
      "f1_score is: \t\t 0.3565\n",
      "0.2977\n",
      "\n",
      "\t LR \t\t score\n",
      "accuracy_score is: \t 0.6847\n",
      "RMSE is: \t\t 0.9314\n",
      "f1_score is: \t\t 0.4253\n",
      "2.8683\n",
      "\n",
      "\t RF \t\t score\n",
      "accuracy_score is: \t 0.9068\n",
      "RMSE is: \t\t 0.2588\n",
      "f1_score is: \t\t 0.8636\n",
      "0.1446\n",
      "\n",
      "\t DT \t\t score\n",
      "accuracy_score is: \t 0.9303\n",
      "RMSE is: \t\t 0.1708\n",
      "f1_score is: \t\t 0.8957\n",
      "0.1776\n",
      "\n",
      "\t GBDT \t\t score\n",
      "accuracy_score is: \t 0.7915\n",
      "RMSE is: \t\t 0.6763\n",
      "f1_score is: \t\t 0.6751\n",
      "24.2078\n",
      "\n",
      "\t SVM \t\t score\n",
      "accuracy_score is: \t 0.6255\n",
      "RMSE is: \t\t 1.4343\n",
      "f1_score is: \t\t 0.2333\n",
      "194.4151\n"
     ]
    }
   ],
   "source": [
    "import time\n",
    "for i in train_model:\n",
    "    start = time.time()\n",
    "    print('\\n\\t',i,'\\t\\t score')\n",
    "    model = train_model[i](X_train, y_train)\n",
    "    predictions = model.predict(X_test)\n",
    "    score_test(y_test, predictions)\n",
    "    end = time.time()\n",
    "    print('{0:.4f}'.format(end - start))\n"
   ]
  },
  {
   "cell_type": "code",
   "execution_count": 21,
   "metadata": {},
   "outputs": [
    {
     "name": "stdout",
     "output_type": "stream",
     "text": [
      "f1_score is: \t\t 0.8819\n",
      "0.8900253136217966 \t 0.8249488489509842\n"
     ]
    }
   ],
   "source": [
    "\n",
    "def decision_tree_classifier(X_train, y_train,random_state):  \n",
    "    from sklearn import tree  \n",
    "    model = tree.DecisionTreeClassifier(random_state = random_state)\n",
    "    model = model.fit(X_train, y_train)\n",
    "    return model\n",
    "def score_test(y_test, predictions):\n",
    "    from sklearn.metrics import accuracy_score\n",
    "    from sklearn.metrics import mean_squared_error\n",
    "    from sklearn.metrics import f1_score\n",
    "#     print ('accuracy_score is: \\t {0:.4f}'.format(accuracy_score(y_test, predictions) ))\n",
    "#     print ('RMSE is: \\t\\t {0:.4f}'.format(mean_squared_error(y_test, predictions) ))\n",
    "#     print ('f1_score is: \\t\\t {0:.4f}'.format(f1_score(y_test, predictions, average='macro') ))\n",
    "    return f1_score(y_test, predictions, average='macro')\n",
    "maxv = 0\n",
    "minv = 1\n",
    "ans = 0\n",
    "ll = 0\n",
    "for k in range(50,100,5):\n",
    "    X_train, X_test, y_train, y_test = train_test_split(X, y, random_state=k, test_size=.2)\n",
    "    for i in range(1,80,2):\n",
    "        model = decision_tree_classifier(X_train, y_train, i )\n",
    "        predictions = model.predict(X_test)\n",
    "        score = score_test(y_test, predictions)\n",
    "        if(maxv < score): \n",
    "            maxv = score\n",
    "            ans = i\n",
    "            ll = k\n",
    "        if(minv > score): minv = score\n",
    "\n",
    "model = decision_tree_classifier(X_train, y_train, i )\n",
    "predictions = model.predict(X_test)\n",
    "from sklearn.metrics import f1_score\n",
    "print ('f1_score is: \\t\\t {0:.4f}'.format(f1_score(y_test, predictions, average='macro') ))\n",
    "print(maxv,'\\t',minv)\n",
    "\n",
    "\n",
    "feats = tf_test.select_dtypes(include=[np.number]).interpolate().fillna(0)\n",
    "finialpredictions = model.predict(feats)\n",
    "    \n",
    "\n",
    "submission = pd.DataFrame()\n",
    "submission['Id'] = tf_test.Id\n",
    "submission['Target'] = finialpredictions\n",
    "submission.to_csv('output.csv', index=False)"
   ]
  },
  {
   "cell_type": "code",
   "execution_count": 22,
   "metadata": {},
   "outputs": [
    {
     "name": "stdout",
     "output_type": "stream",
     "text": [
      "1 \t 50\n"
     ]
    }
   ],
   "source": [
    "print(ans,'\\t',ll)"
   ]
  },
  {
   "cell_type": "code",
   "execution_count": null,
   "metadata": {},
   "outputs": [],
   "source": []
  }
 ],
 "metadata": {
  "kernelspec": {
   "display_name": "Python 3",
   "language": "python",
   "name": "python3"
  },
  "language_info": {
   "codemirror_mode": {
    "name": "ipython",
    "version": 3
   },
   "file_extension": ".py",
   "mimetype": "text/x-python",
   "name": "python",
   "nbconvert_exporter": "python",
   "pygments_lexer": "ipython3",
   "version": "3.6.5"
  }
 },
 "nbformat": 4,
 "nbformat_minor": 2
}
